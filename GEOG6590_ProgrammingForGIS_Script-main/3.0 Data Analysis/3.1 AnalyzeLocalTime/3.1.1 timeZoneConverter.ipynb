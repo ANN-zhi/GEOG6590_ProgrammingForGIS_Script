{
 "cells": [
  {
   "cell_type": "markdown",
   "id": "e181f86d",
   "metadata": {},
   "source": [
    "# \"iso 1861 UTC\" \"lon\" \"lat\"  transfer to local time"
   ]
  },
  {
   "cell_type": "code",
   "execution_count": null,
   "id": "49abd5d6",
   "metadata": {},
   "outputs": [],
   "source": []
  },
  {
   "cell_type": "markdown",
   "id": "717b4604",
   "metadata": {},
   "source": [
    "## Method 1. Bing Map API"
   ]
  },
  {
   "cell_type": "markdown",
   "id": "ef404034",
   "metadata": {},
   "source": [
    "use bing map API https://docs.microsoft.com/en-us/bingmaps/rest-services/timezone/convert-local-time-zone"
   ]
  },
  {
   "cell_type": "code",
   "execution_count": null,
   "id": "7557ff62",
   "metadata": {},
   "outputs": [],
   "source": [
    "import datetime\n",
    "import json\n",
    "import os\n",
    "import requests\n",
    "import pandas as pd"
   ]
  },
  {
   "cell_type": "code",
   "execution_count": null,
   "id": "866f12f3",
   "metadata": {},
   "outputs": [],
   "source": [
    "# Using Bing Maps API\n",
    "BING_MAPS_KEY =\"ldamns3msYqvbSuDkqZD~IrGyPtgz7gYQ4l93OD0Z1Q~Au7uenxOJILxC8NN_IivaUKmEL9-03nW1Gf4tVEACqllvMWPNKc_glsMMPNSQn0x\"\n",
    "print(BING_MAPS_KEY )"
   ]
  },
  {
   "cell_type": "code",
   "execution_count": null,
   "id": "96cd407f",
   "metadata": {},
   "outputs": [],
   "source": [
    "# Using Bing Maps API\n",
    "BING_MAPS_KEY =\"ISkpmb64sTTxNt5jXLSZ~v2nBijG5npdTyWUk6C0eyw~AgCyTQL0FNeT9pferGK7qV6SAGDuz9OSob1hd1t4NP-2OzfSzlESwsIW2zRke4tq\"\n",
    "print(BING_MAPS_KEY )"
   ]
  },
  {
   "cell_type": "code",
   "execution_count": null,
   "id": "b6123d72",
   "metadata": {},
   "outputs": [],
   "source": [
    "# Using Bing Maps API\n",
    "BING_MAPS_KEY =\"lu6podamubJLuRm3PMyQ~mBk7vfkXUBgH063FuCWhFg~Akny7AmvKEIsvJ4zCcp_GL4E9OqGAfrwm-Rt6RLRkZWJXwehbaQRXCfHzgpvGMuG\"\n",
    "print(BING_MAPS_KEY )"
   ]
  },
  {
   "cell_type": "code",
   "execution_count": null,
   "id": "da991df4",
   "metadata": {},
   "outputs": [],
   "source": [
    "def get_time_zone(lon,lat,datetime_utc):\n",
    "    \n",
    "    r = requests.get(\n",
    "        f\"https://dev.virtualearth.net/REST/v1/TimeZone/{lat},{lon}?datetime={datetime_utc}&key={BING_MAPS_KEY}\")\n",
    "    \n",
    "    return r.json()"
   ]
  },
  {
   "cell_type": "code",
   "execution_count": null,
   "id": "299d88c2",
   "metadata": {},
   "outputs": [],
   "source": [
    "#working\n",
    "def get_time_zone(lon,lat,isotime_utc):\n",
    "    try: \n",
    "        r = requests.get(\n",
    "        f\"https://dev.virtualearth.net/REST/v1/TimeZone/{lat},{lon}?datetime={isotime_utc}&key={BING_MAPS_KEY}\")\n",
    "    \n",
    "        return r.json()['resourceSets'][0]['resources'][0]['timeZone']['convertedTime']['localTime']\n",
    "    except:\n",
    "        return \"NA\""
   ]
  },
  {
   "cell_type": "code",
   "execution_count": null,
   "id": "7bb69f8d",
   "metadata": {},
   "outputs": [],
   "source": [
    "print(get_time_zone(-78.853563,42.8962295,\"2019-03-31T23:57:12.000Z\"))"
   ]
  },
  {
   "cell_type": "code",
   "execution_count": null,
   "id": "9be8706b",
   "metadata": {},
   "outputs": [],
   "source": [
    "pd.options.mode.chained_assignment = None\n",
    "i=0\n",
    "df['local_time'] =\"\"\n",
    "for row in df.iterrows():\n",
    "    \n",
    "    df['local_time'][i]= get_time_zone(df[\"lon\"][i],df[\"lat\"][i],df[\"created_at\"][i])  \n",
    "    print(i,df[\"created_at\"][i],df['local_time'][i])\n",
    "   \n",
    "    i+=1"
   ]
  },
  {
   "cell_type": "code",
   "execution_count": null,
   "id": "e030a0c6",
   "metadata": {},
   "outputs": [],
   "source": [
    "pd.options.mode.chained_assignment = None\n",
    "i=0\n",
    "\n",
    "for row in df.iterrows():\n",
    "    if  str(df['local_time'][i])==\"nan\":\n",
    "        df['local_time'][i]= get_time_zone(df[\"lon\"][i],df[\"lat\"][i],df[\"created_at\"][i])  \n",
    "        print(i,df[\"created_at\"][i],df['local_time'][i])\n",
    "    #print(i)\n",
    "    i+=1"
   ]
  },
  {
   "cell_type": "code",
   "execution_count": null,
   "id": "158ce793",
   "metadata": {},
   "outputs": [],
   "source": [
    "print(df.dtypes)"
   ]
  },
  {
   "cell_type": "markdown",
   "id": "b1c25415",
   "metadata": {},
   "source": [
    "## Method2. Use datetime and pytz library"
   ]
  },
  {
   "cell_type": "code",
   "execution_count": 1,
   "id": "37efd35e",
   "metadata": {},
   "outputs": [],
   "source": [
    "from tzwhere import tzwhere\n",
    "from pytz import timezone\n",
    "import datetime\n",
    "import pytz\n",
    "import time\n",
    "from dateutil import parser"
   ]
  },
  {
   "cell_type": "code",
   "execution_count": 2,
   "id": "1045df38",
   "metadata": {},
   "outputs": [],
   "source": [
    "#iso to timestamp\n",
    "import datetime,pytz\n",
    "\n",
    "def iso2timestamp(datestring, format='%Y-%m-%dT%H:%M:%S.%fZ',timespec='seconds'):\n",
    "    \"\"\"\n",
    "    ISO8601时间转换为时间戳\n",
    "\n",
    "    :param datestring:iso时间字符串 2019-03-25T16:00:00.000Z，2019-03-25T16:00:00.000111Z\n",
    "    :param format:%Y-%m-%dT%H:%M:%S.%fZ；其中%f 表示毫秒或者微秒\n",
    "    :param timespec:返回时间戳最小单位 seconds 秒，milliseconds 毫秒,microseconds 微秒\n",
    "    :return:时间戳 默认单位秒\n",
    "    \"\"\"\n",
    "    tz = pytz.timezone('Asia/Shanghai')\n",
    "    utc_time = datetime.datetime.strptime(datestring, format)  # 将字符串读取为 时间 class datetime.datetime\n",
    "\n",
    "    time = utc_time.replace(tzinfo=pytz.utc).astimezone(tz)\n",
    "\n",
    "    times = {\n",
    "        'seconds': int(time.timestamp()),\n",
    "        'milliseconds': round(time.timestamp() * 1000),\n",
    "        'microseconds': round(time.timestamp() * 1000 * 1000),\n",
    "    }\n",
    "    return times[timespec]"
   ]
  },
  {
   "cell_type": "code",
   "execution_count": 3,
   "id": "48b203ff",
   "metadata": {},
   "outputs": [],
   "source": [
    "def get_local_time(lon,lat,isotime_utc):\n",
    "    \n",
    "    #try: \n",
    "        #iso to timestamp\n",
    "        timestamp = iso2timestamp(isotime_utc)\n",
    "    \n",
    "        #timestamp, lat, lon to local_time\n",
    "        tz = tzwhere.tzwhere(forceTZ=True)\n",
    "        time_zone = tz.tzNameAt(lat,lon, forceTZ=True)  #纬度，经度。 得到对应的时区\n",
    "        #print(timestamp)\n",
    "        local_time = datetime.datetime.fromtimestamp(timestamp,pytz.timezone(time_zone)).strftime('%Y-%m-%dT%H:%M:%S')\n",
    "    \n",
    "        return str(local_time)\n",
    "    \n",
    "    #except:\n",
    "        #return \"N/A\""
   ]
  },
  {
   "cell_type": "code",
   "execution_count": null,
   "id": "fd5d2389",
   "metadata": {
    "scrolled": false
   },
   "outputs": [],
   "source": [
    "print(get_local_time(-78.853563,42.8962295,\"2019-03-31T23:57:12.000Z\"))"
   ]
  },
  {
   "cell_type": "code",
   "execution_count": 5,
   "id": "1b583ff5",
   "metadata": {},
   "outputs": [],
   "source": [
    "#csv add local_time column\n",
    "import pandas as pd\n",
    "df= pd.read_csv(\"clean_local_time_2019-03_2020-02_bbox_county_level_na.csv\",low_memory=False)   "
   ]
  },
  {
   "cell_type": "code",
   "execution_count": 6,
   "id": "16691171",
   "metadata": {},
   "outputs": [
    {
     "name": "stderr",
     "output_type": "stream",
     "text": [
      "F:\\Anaconda3\\lib\\site-packages\\numpy\\core\\_asarray.py:102: VisibleDeprecationWarning: Creating an ndarray from ragged nested sequences (which is a list-or-tuple of lists-or-tuples-or ndarrays with different lengths or shapes) is deprecated. If you meant to do this, you must specify 'dtype=object' when creating the ndarray.\n",
      "  return array(a, dtype, copy=False, order=order)\n"
     ]
    },
    {
     "ename": "UnknownTimeZoneError",
     "evalue": "'uninhabited'",
     "output_type": "error",
     "traceback": [
      "\u001b[1;31m---------------------------------------------------------------------------\u001b[0m",
      "\u001b[1;31mUnknownTimeZoneError\u001b[0m                      Traceback (most recent call last)",
      "\u001b[1;32m<ipython-input-6-5d864226e545>\u001b[0m in \u001b[0;36m<module>\u001b[1;34m\u001b[0m\n\u001b[0;32m      6\u001b[0m \u001b[1;32mfor\u001b[0m \u001b[0mrow\u001b[0m \u001b[1;32min\u001b[0m \u001b[0mdf\u001b[0m\u001b[1;33m.\u001b[0m\u001b[0miterrows\u001b[0m\u001b[1;33m(\u001b[0m\u001b[1;33m)\u001b[0m\u001b[1;33m:\u001b[0m\u001b[1;33m\u001b[0m\u001b[1;33m\u001b[0m\u001b[0m\n\u001b[0;32m      7\u001b[0m     \u001b[1;32mif\u001b[0m  \u001b[0mstr\u001b[0m\u001b[1;33m(\u001b[0m\u001b[0mdf\u001b[0m\u001b[1;33m[\u001b[0m\u001b[1;34m'local_time'\u001b[0m\u001b[1;33m]\u001b[0m\u001b[1;33m[\u001b[0m\u001b[0mi\u001b[0m\u001b[1;33m]\u001b[0m\u001b[1;33m)\u001b[0m\u001b[1;33m==\u001b[0m\u001b[1;34m\"nan\"\u001b[0m\u001b[1;33m:\u001b[0m\u001b[1;33m\u001b[0m\u001b[1;33m\u001b[0m\u001b[0m\n\u001b[1;32m----> 8\u001b[1;33m         \u001b[0mdf\u001b[0m\u001b[1;33m[\u001b[0m\u001b[1;34m'local_time'\u001b[0m\u001b[1;33m]\u001b[0m\u001b[1;33m[\u001b[0m\u001b[0mi\u001b[0m\u001b[1;33m]\u001b[0m\u001b[1;33m=\u001b[0m \u001b[0mget_local_time\u001b[0m\u001b[1;33m(\u001b[0m\u001b[0mdf\u001b[0m\u001b[1;33m[\u001b[0m\u001b[1;34m\"lon\"\u001b[0m\u001b[1;33m]\u001b[0m\u001b[1;33m[\u001b[0m\u001b[0mi\u001b[0m\u001b[1;33m]\u001b[0m\u001b[1;33m,\u001b[0m\u001b[0mdf\u001b[0m\u001b[1;33m[\u001b[0m\u001b[1;34m\"lat\"\u001b[0m\u001b[1;33m]\u001b[0m\u001b[1;33m[\u001b[0m\u001b[0mi\u001b[0m\u001b[1;33m]\u001b[0m\u001b[1;33m,\u001b[0m\u001b[0mdf\u001b[0m\u001b[1;33m[\u001b[0m\u001b[1;34m\"created_at\"\u001b[0m\u001b[1;33m]\u001b[0m\u001b[1;33m[\u001b[0m\u001b[0mi\u001b[0m\u001b[1;33m]\u001b[0m\u001b[1;33m)\u001b[0m\u001b[1;33m\u001b[0m\u001b[1;33m\u001b[0m\u001b[0m\n\u001b[0m\u001b[0;32m      9\u001b[0m         \u001b[0mprint\u001b[0m\u001b[1;33m(\u001b[0m\u001b[0mi\u001b[0m\u001b[1;33m)\u001b[0m\u001b[1;33m\u001b[0m\u001b[1;33m\u001b[0m\u001b[0m\n\u001b[0;32m     10\u001b[0m         \u001b[0mprint\u001b[0m\u001b[1;33m(\u001b[0m\u001b[0mdf\u001b[0m\u001b[1;33m[\u001b[0m\u001b[1;34m'local_time'\u001b[0m\u001b[1;33m]\u001b[0m\u001b[1;33m[\u001b[0m\u001b[0mi\u001b[0m\u001b[1;33m]\u001b[0m\u001b[1;33m)\u001b[0m\u001b[1;33m\u001b[0m\u001b[1;33m\u001b[0m\u001b[0m\n",
      "\u001b[1;32m<ipython-input-3-31a2affffc29>\u001b[0m in \u001b[0;36mget_local_time\u001b[1;34m(lon, lat, isotime_utc)\u001b[0m\n\u001b[0;32m      9\u001b[0m         \u001b[0mtime_zone\u001b[0m \u001b[1;33m=\u001b[0m \u001b[0mtz\u001b[0m\u001b[1;33m.\u001b[0m\u001b[0mtzNameAt\u001b[0m\u001b[1;33m(\u001b[0m\u001b[0mlat\u001b[0m\u001b[1;33m,\u001b[0m\u001b[0mlon\u001b[0m\u001b[1;33m,\u001b[0m \u001b[0mforceTZ\u001b[0m\u001b[1;33m=\u001b[0m\u001b[1;32mTrue\u001b[0m\u001b[1;33m)\u001b[0m  \u001b[1;31m#纬度，经度。 得到对应的时区\u001b[0m\u001b[1;33m\u001b[0m\u001b[1;33m\u001b[0m\u001b[0m\n\u001b[0;32m     10\u001b[0m         \u001b[1;31m#print(timestamp)\u001b[0m\u001b[1;33m\u001b[0m\u001b[1;33m\u001b[0m\u001b[1;33m\u001b[0m\u001b[0m\n\u001b[1;32m---> 11\u001b[1;33m         \u001b[0mlocal_time\u001b[0m \u001b[1;33m=\u001b[0m \u001b[0mdatetime\u001b[0m\u001b[1;33m.\u001b[0m\u001b[0mdatetime\u001b[0m\u001b[1;33m.\u001b[0m\u001b[0mfromtimestamp\u001b[0m\u001b[1;33m(\u001b[0m\u001b[0mtimestamp\u001b[0m\u001b[1;33m,\u001b[0m\u001b[0mpytz\u001b[0m\u001b[1;33m.\u001b[0m\u001b[0mtimezone\u001b[0m\u001b[1;33m(\u001b[0m\u001b[0mtime_zone\u001b[0m\u001b[1;33m)\u001b[0m\u001b[1;33m)\u001b[0m\u001b[1;33m.\u001b[0m\u001b[0mstrftime\u001b[0m\u001b[1;33m(\u001b[0m\u001b[1;34m'%Y-%m-%dT%H:%M:%S'\u001b[0m\u001b[1;33m)\u001b[0m\u001b[1;33m\u001b[0m\u001b[1;33m\u001b[0m\u001b[0m\n\u001b[0m\u001b[0;32m     12\u001b[0m \u001b[1;33m\u001b[0m\u001b[0m\n\u001b[0;32m     13\u001b[0m         \u001b[1;32mreturn\u001b[0m \u001b[0mstr\u001b[0m\u001b[1;33m(\u001b[0m\u001b[0mlocal_time\u001b[0m\u001b[1;33m)\u001b[0m\u001b[1;33m\u001b[0m\u001b[1;33m\u001b[0m\u001b[0m\n",
      "\u001b[1;32mF:\\Anaconda3\\lib\\site-packages\\pytz\\__init__.py\u001b[0m in \u001b[0;36mtimezone\u001b[1;34m(zone)\u001b[0m\n\u001b[0;32m    186\u001b[0m                 \u001b[0mfp\u001b[0m\u001b[1;33m.\u001b[0m\u001b[0mclose\u001b[0m\u001b[1;33m(\u001b[0m\u001b[1;33m)\u001b[0m\u001b[1;33m\u001b[0m\u001b[1;33m\u001b[0m\u001b[0m\n\u001b[0;32m    187\u001b[0m         \u001b[1;32melse\u001b[0m\u001b[1;33m:\u001b[0m\u001b[1;33m\u001b[0m\u001b[1;33m\u001b[0m\u001b[0m\n\u001b[1;32m--> 188\u001b[1;33m             \u001b[1;32mraise\u001b[0m \u001b[0mUnknownTimeZoneError\u001b[0m\u001b[1;33m(\u001b[0m\u001b[0mzone\u001b[0m\u001b[1;33m)\u001b[0m\u001b[1;33m\u001b[0m\u001b[1;33m\u001b[0m\u001b[0m\n\u001b[0m\u001b[0;32m    189\u001b[0m \u001b[1;33m\u001b[0m\u001b[0m\n\u001b[0;32m    190\u001b[0m     \u001b[1;32mreturn\u001b[0m \u001b[0m_tzinfo_cache\u001b[0m\u001b[1;33m[\u001b[0m\u001b[0mzone\u001b[0m\u001b[1;33m]\u001b[0m\u001b[1;33m\u001b[0m\u001b[1;33m\u001b[0m\u001b[0m\n",
      "\u001b[1;31mUnknownTimeZoneError\u001b[0m: 'uninhabited'"
     ]
    }
   ],
   "source": [
    "#TRY THIS\n",
    "#Recalculate the NA timezone\n",
    "pd.options.mode.chained_assignment = None\n",
    "i=0\n",
    "\n",
    "for row in df.iterrows():\n",
    "    if  str(df['local_time'][i])==\"nan\":\n",
    "        df['local_time'][i]= get_local_time(df[\"lon\"][i],df[\"lat\"][i],df[\"created_at\"][i])  \n",
    "        print(i)\n",
    "        print(df['local_time'][i])\n",
    "   \n",
    "    i+=1"
   ]
  },
  {
   "cell_type": "code",
   "execution_count": null,
   "id": "6addfa94",
   "metadata": {},
   "outputs": [],
   "source": [
    "df.to_csv(\"clean_local_time_2019-03_2020-02_bbox_county_level_na.csv\",encoding=\"utf_8_sig\",index=False)"
   ]
  }
 ],
 "metadata": {
  "kernelspec": {
   "display_name": "Python 3",
   "language": "python",
   "name": "python3"
  },
  "language_info": {
   "codemirror_mode": {
    "name": "ipython",
    "version": 3
   },
   "file_extension": ".py",
   "mimetype": "text/x-python",
   "name": "python",
   "nbconvert_exporter": "python",
   "pygments_lexer": "ipython3",
   "version": "3.8.8"
  }
 },
 "nbformat": 4,
 "nbformat_minor": 5
}
