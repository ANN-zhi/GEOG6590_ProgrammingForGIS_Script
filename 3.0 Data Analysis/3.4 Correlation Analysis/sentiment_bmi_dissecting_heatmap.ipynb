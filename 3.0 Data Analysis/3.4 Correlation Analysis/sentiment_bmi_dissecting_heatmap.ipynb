{
 "cells": [
  {
   "cell_type": "markdown",
   "metadata": {
    "colab_type": "text",
    "id": "gDoXM7wqb9fG"
   },
   "source": [
    "# Dissecting the code: Seaborn heatmap"
   ]
  },
  {
   "cell_type": "markdown",
   "metadata": {
    "colab_type": "text",
    "id": "XMXRUtTdcH7T"
   },
   "source": [
    "## Importing the library"
   ]
  },
  {
   "cell_type": "code",
   "execution_count": 1,
   "metadata": {
    "colab": {},
    "colab_type": "code",
    "id": "lCbRLwOdtSCi"
   },
   "outputs": [],
   "source": [
    "import seaborn as sns\n",
    "import numpy as np\n",
    "import pandas as pd\n",
    "import matplotlib.pyplot as plt"
   ]
  },
  {
   "cell_type": "markdown",
   "metadata": {
    "colab_type": "text",
    "id": "Cde4bYjacRx1"
   },
   "source": [
    "## Importing the data from seaborn pre-instored datasets"
   ]
  },
  {
   "cell_type": "code",
   "execution_count": 2,
   "metadata": {
    "colab": {
     "base_uri": "https://localhost:8080/",
     "height": 200
    },
    "colab_type": "code",
    "id": "XjHvDkMjt9Y9",
    "outputId": "ff7fd889-9478-4797-a8a1-d0620c35c209"
   },
   "outputs": [
    {
     "data": {
      "text/html": [
       "<div>\n",
       "<style scoped>\n",
       "    .dataframe tbody tr th:only-of-type {\n",
       "        vertical-align: middle;\n",
       "    }\n",
       "\n",
       "    .dataframe tbody tr th {\n",
       "        vertical-align: top;\n",
       "    }\n",
       "\n",
       "    .dataframe thead th {\n",
       "        text-align: right;\n",
       "    }\n",
       "</style>\n",
       "<table border=\"1\" class=\"dataframe\">\n",
       "  <thead>\n",
       "    <tr style=\"text-align: right;\">\n",
       "      <th></th>\n",
       "      <th>state</th>\n",
       "      <th>obesity number</th>\n",
       "      <th>joy</th>\n",
       "      <th>anger</th>\n",
       "      <th>anticipation</th>\n",
       "      <th>disgust</th>\n",
       "      <th>fear</th>\n",
       "      <th>sadness</th>\n",
       "      <th>surprise</th>\n",
       "      <th>trust</th>\n",
       "      <th>negative</th>\n",
       "      <th>positive</th>\n",
       "    </tr>\n",
       "  </thead>\n",
       "  <tbody>\n",
       "    <tr>\n",
       "      <th>0</th>\n",
       "      <td>Alabama</td>\n",
       "      <td>1321625</td>\n",
       "      <td>922</td>\n",
       "      <td>500</td>\n",
       "      <td>1014</td>\n",
       "      <td>809</td>\n",
       "      <td>777</td>\n",
       "      <td>909</td>\n",
       "      <td>578</td>\n",
       "      <td>943</td>\n",
       "      <td>1333</td>\n",
       "      <td>1752</td>\n",
       "    </tr>\n",
       "    <tr>\n",
       "      <th>1</th>\n",
       "      <td>Alaska</td>\n",
       "      <td>154408</td>\n",
       "      <td>184</td>\n",
       "      <td>77</td>\n",
       "      <td>180</td>\n",
       "      <td>120</td>\n",
       "      <td>117</td>\n",
       "      <td>121</td>\n",
       "      <td>109</td>\n",
       "      <td>210</td>\n",
       "      <td>231</td>\n",
       "      <td>364</td>\n",
       "    </tr>\n",
       "    <tr>\n",
       "      <th>2</th>\n",
       "      <td>Arizona</td>\n",
       "      <td>1404408</td>\n",
       "      <td>1755</td>\n",
       "      <td>962</td>\n",
       "      <td>1822</td>\n",
       "      <td>1475</td>\n",
       "      <td>1431</td>\n",
       "      <td>1570</td>\n",
       "      <td>942</td>\n",
       "      <td>1956</td>\n",
       "      <td>2677</td>\n",
       "      <td>3499</td>\n",
       "    </tr>\n",
       "    <tr>\n",
       "      <th>3</th>\n",
       "      <td>Arkansas</td>\n",
       "      <td>818396</td>\n",
       "      <td>429</td>\n",
       "      <td>187</td>\n",
       "      <td>447</td>\n",
       "      <td>314</td>\n",
       "      <td>306</td>\n",
       "      <td>335</td>\n",
       "      <td>203</td>\n",
       "      <td>409</td>\n",
       "      <td>504</td>\n",
       "      <td>753</td>\n",
       "    </tr>\n",
       "    <tr>\n",
       "      <th>4</th>\n",
       "      <td>California</td>\n",
       "      <td>7221318</td>\n",
       "      <td>13900</td>\n",
       "      <td>7058</td>\n",
       "      <td>14225</td>\n",
       "      <td>10697</td>\n",
       "      <td>10322</td>\n",
       "      <td>11402</td>\n",
       "      <td>7210</td>\n",
       "      <td>14662</td>\n",
       "      <td>19255</td>\n",
       "      <td>26957</td>\n",
       "    </tr>\n",
       "    <tr>\n",
       "      <th>5</th>\n",
       "      <td>Colorado</td>\n",
       "      <td>872799</td>\n",
       "      <td>1275</td>\n",
       "      <td>500</td>\n",
       "      <td>1308</td>\n",
       "      <td>826</td>\n",
       "      <td>776</td>\n",
       "      <td>948</td>\n",
       "      <td>598</td>\n",
       "      <td>1279</td>\n",
       "      <td>1598</td>\n",
       "      <td>2457</td>\n",
       "    </tr>\n",
       "    <tr>\n",
       "      <th>6</th>\n",
       "      <td>Connecticut</td>\n",
       "      <td>756107</td>\n",
       "      <td>841</td>\n",
       "      <td>468</td>\n",
       "      <td>912</td>\n",
       "      <td>797</td>\n",
       "      <td>774</td>\n",
       "      <td>972</td>\n",
       "      <td>449</td>\n",
       "      <td>1005</td>\n",
       "      <td>1410</td>\n",
       "      <td>1736</td>\n",
       "    </tr>\n",
       "    <tr>\n",
       "      <th>7</th>\n",
       "      <td>Delaware</td>\n",
       "      <td>231940</td>\n",
       "      <td>282</td>\n",
       "      <td>131</td>\n",
       "      <td>281</td>\n",
       "      <td>199</td>\n",
       "      <td>209</td>\n",
       "      <td>202</td>\n",
       "      <td>140</td>\n",
       "      <td>283</td>\n",
       "      <td>380</td>\n",
       "      <td>514</td>\n",
       "    </tr>\n",
       "    <tr>\n",
       "      <th>8</th>\n",
       "      <td>District of Columbia</td>\n",
       "      <td>123662</td>\n",
       "      <td>1010</td>\n",
       "      <td>527</td>\n",
       "      <td>1070</td>\n",
       "      <td>852</td>\n",
       "      <td>844</td>\n",
       "      <td>966</td>\n",
       "      <td>510</td>\n",
       "      <td>1141</td>\n",
       "      <td>1567</td>\n",
       "      <td>2139</td>\n",
       "    </tr>\n",
       "    <tr>\n",
       "      <th>9</th>\n",
       "      <td>Florida</td>\n",
       "      <td>4539244</td>\n",
       "      <td>5588</td>\n",
       "      <td>2663</td>\n",
       "      <td>5634</td>\n",
       "      <td>4277</td>\n",
       "      <td>4054</td>\n",
       "      <td>4572</td>\n",
       "      <td>2813</td>\n",
       "      <td>5799</td>\n",
       "      <td>7741</td>\n",
       "      <td>10764</td>\n",
       "    </tr>\n",
       "    <tr>\n",
       "      <th>10</th>\n",
       "      <td>Georgia</td>\n",
       "      <td>2335733</td>\n",
       "      <td>2451</td>\n",
       "      <td>1098</td>\n",
       "      <td>2573</td>\n",
       "      <td>1852</td>\n",
       "      <td>1768</td>\n",
       "      <td>1975</td>\n",
       "      <td>1233</td>\n",
       "      <td>2485</td>\n",
       "      <td>3167</td>\n",
       "      <td>4462</td>\n",
       "    </tr>\n",
       "    <tr>\n",
       "      <th>11</th>\n",
       "      <td>Hawaii</td>\n",
       "      <td>263297</td>\n",
       "      <td>518</td>\n",
       "      <td>227</td>\n",
       "      <td>525</td>\n",
       "      <td>362</td>\n",
       "      <td>359</td>\n",
       "      <td>372</td>\n",
       "      <td>255</td>\n",
       "      <td>477</td>\n",
       "      <td>623</td>\n",
       "      <td>927</td>\n",
       "    </tr>\n",
       "    <tr>\n",
       "      <th>12</th>\n",
       "      <td>Idaho</td>\n",
       "      <td>322921</td>\n",
       "      <td>211</td>\n",
       "      <td>97</td>\n",
       "      <td>225</td>\n",
       "      <td>163</td>\n",
       "      <td>144</td>\n",
       "      <td>163</td>\n",
       "      <td>118</td>\n",
       "      <td>228</td>\n",
       "      <td>258</td>\n",
       "      <td>402</td>\n",
       "    </tr>\n",
       "    <tr>\n",
       "      <th>13</th>\n",
       "      <td>Illinois</td>\n",
       "      <td>3080347</td>\n",
       "      <td>3478</td>\n",
       "      <td>1696</td>\n",
       "      <td>3467</td>\n",
       "      <td>2660</td>\n",
       "      <td>2724</td>\n",
       "      <td>3052</td>\n",
       "      <td>2054</td>\n",
       "      <td>3770</td>\n",
       "      <td>4877</td>\n",
       "      <td>6698</td>\n",
       "    </tr>\n",
       "    <tr>\n",
       "      <th>14</th>\n",
       "      <td>Indiana</td>\n",
       "      <td>1660978</td>\n",
       "      <td>1324</td>\n",
       "      <td>686</td>\n",
       "      <td>1443</td>\n",
       "      <td>1086</td>\n",
       "      <td>1019</td>\n",
       "      <td>1185</td>\n",
       "      <td>720</td>\n",
       "      <td>1415</td>\n",
       "      <td>2010</td>\n",
       "      <td>2537</td>\n",
       "    </tr>\n",
       "    <tr>\n",
       "      <th>15</th>\n",
       "      <td>Iowa</td>\n",
       "      <td>818903</td>\n",
       "      <td>419</td>\n",
       "      <td>211</td>\n",
       "      <td>452</td>\n",
       "      <td>383</td>\n",
       "      <td>355</td>\n",
       "      <td>401</td>\n",
       "      <td>240</td>\n",
       "      <td>458</td>\n",
       "      <td>650</td>\n",
       "      <td>870</td>\n",
       "    </tr>\n",
       "    <tr>\n",
       "      <th>16</th>\n",
       "      <td>Kansas</td>\n",
       "      <td>731127</td>\n",
       "      <td>441</td>\n",
       "      <td>222</td>\n",
       "      <td>457</td>\n",
       "      <td>325</td>\n",
       "      <td>337</td>\n",
       "      <td>390</td>\n",
       "      <td>254</td>\n",
       "      <td>469</td>\n",
       "      <td>616</td>\n",
       "      <td>856</td>\n",
       "    </tr>\n",
       "    <tr>\n",
       "      <th>17</th>\n",
       "      <td>Kentucky</td>\n",
       "      <td>1214157</td>\n",
       "      <td>647</td>\n",
       "      <td>333</td>\n",
       "      <td>720</td>\n",
       "      <td>509</td>\n",
       "      <td>513</td>\n",
       "      <td>569</td>\n",
       "      <td>363</td>\n",
       "      <td>716</td>\n",
       "      <td>952</td>\n",
       "      <td>1247</td>\n",
       "    </tr>\n",
       "    <tr>\n",
       "      <th>18</th>\n",
       "      <td>Louisiana</td>\n",
       "      <td>1255648</td>\n",
       "      <td>1635</td>\n",
       "      <td>712</td>\n",
       "      <td>1766</td>\n",
       "      <td>1273</td>\n",
       "      <td>1176</td>\n",
       "      <td>1295</td>\n",
       "      <td>875</td>\n",
       "      <td>1553</td>\n",
       "      <td>2121</td>\n",
       "      <td>2807</td>\n",
       "    </tr>\n",
       "    <tr>\n",
       "      <th>19</th>\n",
       "      <td>Maine</td>\n",
       "      <td>319880</td>\n",
       "      <td>150</td>\n",
       "      <td>76</td>\n",
       "      <td>152</td>\n",
       "      <td>102</td>\n",
       "      <td>106</td>\n",
       "      <td>116</td>\n",
       "      <td>68</td>\n",
       "      <td>174</td>\n",
       "      <td>200</td>\n",
       "      <td>285</td>\n",
       "    </tr>\n",
       "    <tr>\n",
       "      <th>20</th>\n",
       "      <td>Maryland</td>\n",
       "      <td>1367798</td>\n",
       "      <td>1990</td>\n",
       "      <td>1046</td>\n",
       "      <td>2134</td>\n",
       "      <td>1726</td>\n",
       "      <td>1628</td>\n",
       "      <td>1839</td>\n",
       "      <td>1039</td>\n",
       "      <td>2085</td>\n",
       "      <td>2965</td>\n",
       "      <td>3737</td>\n",
       "    </tr>\n",
       "    <tr>\n",
       "      <th>21</th>\n",
       "      <td>Massachusetts</td>\n",
       "      <td>1317327</td>\n",
       "      <td>1650</td>\n",
       "      <td>973</td>\n",
       "      <td>1860</td>\n",
       "      <td>1523</td>\n",
       "      <td>1368</td>\n",
       "      <td>1659</td>\n",
       "      <td>930</td>\n",
       "      <td>1914</td>\n",
       "      <td>2760</td>\n",
       "      <td>3550</td>\n",
       "    </tr>\n",
       "    <tr>\n",
       "      <th>22</th>\n",
       "      <td>Michigan</td>\n",
       "      <td>2486918</td>\n",
       "      <td>1642</td>\n",
       "      <td>852</td>\n",
       "      <td>1738</td>\n",
       "      <td>1364</td>\n",
       "      <td>1355</td>\n",
       "      <td>1527</td>\n",
       "      <td>893</td>\n",
       "      <td>1852</td>\n",
       "      <td>2560</td>\n",
       "      <td>3327</td>\n",
       "    </tr>\n",
       "    <tr>\n",
       "      <th>23</th>\n",
       "      <td>Minnesota</td>\n",
       "      <td>1208204</td>\n",
       "      <td>864</td>\n",
       "      <td>502</td>\n",
       "      <td>938</td>\n",
       "      <td>755</td>\n",
       "      <td>719</td>\n",
       "      <td>789</td>\n",
       "      <td>469</td>\n",
       "      <td>994</td>\n",
       "      <td>1465</td>\n",
       "      <td>1677</td>\n",
       "    </tr>\n",
       "    <tr>\n",
       "      <th>24</th>\n",
       "      <td>Mississippi</td>\n",
       "      <td>872877</td>\n",
       "      <td>418</td>\n",
       "      <td>158</td>\n",
       "      <td>443</td>\n",
       "      <td>327</td>\n",
       "      <td>289</td>\n",
       "      <td>327</td>\n",
       "      <td>216</td>\n",
       "      <td>376</td>\n",
       "      <td>541</td>\n",
       "      <td>700</td>\n",
       "    </tr>\n",
       "    <tr>\n",
       "      <th>25</th>\n",
       "      <td>Missouri</td>\n",
       "      <td>1598416</td>\n",
       "      <td>937</td>\n",
       "      <td>507</td>\n",
       "      <td>1016</td>\n",
       "      <td>776</td>\n",
       "      <td>765</td>\n",
       "      <td>834</td>\n",
       "      <td>501</td>\n",
       "      <td>1085</td>\n",
       "      <td>1467</td>\n",
       "      <td>1970</td>\n",
       "    </tr>\n",
       "    <tr>\n",
       "      <th>26</th>\n",
       "      <td>Montana</td>\n",
       "      <td>205646</td>\n",
       "      <td>62</td>\n",
       "      <td>30</td>\n",
       "      <td>61</td>\n",
       "      <td>45</td>\n",
       "      <td>36</td>\n",
       "      <td>38</td>\n",
       "      <td>34</td>\n",
       "      <td>65</td>\n",
       "      <td>78</td>\n",
       "      <td>127</td>\n",
       "    </tr>\n",
       "    <tr>\n",
       "      <th>27</th>\n",
       "      <td>Nebraska</td>\n",
       "      <td>466516</td>\n",
       "      <td>4765</td>\n",
       "      <td>209</td>\n",
       "      <td>4797</td>\n",
       "      <td>2445</td>\n",
       "      <td>2508</td>\n",
       "      <td>2472</td>\n",
       "      <td>4590</td>\n",
       "      <td>4801</td>\n",
       "      <td>2712</td>\n",
       "      <td>5149</td>\n",
       "    </tr>\n",
       "    <tr>\n",
       "      <th>28</th>\n",
       "      <td>Nevada</td>\n",
       "      <td>600090</td>\n",
       "      <td>1331</td>\n",
       "      <td>743</td>\n",
       "      <td>1339</td>\n",
       "      <td>1163</td>\n",
       "      <td>1004</td>\n",
       "      <td>1221</td>\n",
       "      <td>724</td>\n",
       "      <td>1400</td>\n",
       "      <td>2065</td>\n",
       "      <td>2498</td>\n",
       "    </tr>\n",
       "    <tr>\n",
       "      <th>29</th>\n",
       "      <td>New Hampshire</td>\n",
       "      <td>304638</td>\n",
       "      <td>131</td>\n",
       "      <td>72</td>\n",
       "      <td>119</td>\n",
       "      <td>114</td>\n",
       "      <td>102</td>\n",
       "      <td>132</td>\n",
       "      <td>69</td>\n",
       "      <td>122</td>\n",
       "      <td>203</td>\n",
       "      <td>259</td>\n",
       "    </tr>\n",
       "    <tr>\n",
       "      <th>30</th>\n",
       "      <td>New Jersey</td>\n",
       "      <td>1725384</td>\n",
       "      <td>2324</td>\n",
       "      <td>1025</td>\n",
       "      <td>2325</td>\n",
       "      <td>1657</td>\n",
       "      <td>1634</td>\n",
       "      <td>1807</td>\n",
       "      <td>1146</td>\n",
       "      <td>2551</td>\n",
       "      <td>3091</td>\n",
       "      <td>4418</td>\n",
       "    </tr>\n",
       "    <tr>\n",
       "      <th>31</th>\n",
       "      <td>New Mexico</td>\n",
       "      <td>497967</td>\n",
       "      <td>294</td>\n",
       "      <td>140</td>\n",
       "      <td>294</td>\n",
       "      <td>222</td>\n",
       "      <td>204</td>\n",
       "      <td>244</td>\n",
       "      <td>141</td>\n",
       "      <td>313</td>\n",
       "      <td>404</td>\n",
       "      <td>569</td>\n",
       "    </tr>\n",
       "    <tr>\n",
       "      <th>32</th>\n",
       "      <td>New York</td>\n",
       "      <td>4160792</td>\n",
       "      <td>6304</td>\n",
       "      <td>3154</td>\n",
       "      <td>6690</td>\n",
       "      <td>4984</td>\n",
       "      <td>4696</td>\n",
       "      <td>5356</td>\n",
       "      <td>3274</td>\n",
       "      <td>7035</td>\n",
       "      <td>9236</td>\n",
       "      <td>13000</td>\n",
       "    </tr>\n",
       "    <tr>\n",
       "      <th>33</th>\n",
       "      <td>North Carolina</td>\n",
       "      <td>2390227</td>\n",
       "      <td>2210</td>\n",
       "      <td>975</td>\n",
       "      <td>2316</td>\n",
       "      <td>1660</td>\n",
       "      <td>1637</td>\n",
       "      <td>1749</td>\n",
       "      <td>1185</td>\n",
       "      <td>2237</td>\n",
       "      <td>2880</td>\n",
       "      <td>4077</td>\n",
       "    </tr>\n",
       "    <tr>\n",
       "      <th>34</th>\n",
       "      <td>North Dakota</td>\n",
       "      <td>183464</td>\n",
       "      <td>80</td>\n",
       "      <td>40</td>\n",
       "      <td>79</td>\n",
       "      <td>58</td>\n",
       "      <td>48</td>\n",
       "      <td>58</td>\n",
       "      <td>45</td>\n",
       "      <td>97</td>\n",
       "      <td>104</td>\n",
       "      <td>162</td>\n",
       "    </tr>\n",
       "    <tr>\n",
       "      <th>35</th>\n",
       "      <td>Ohio</td>\n",
       "      <td>2995193</td>\n",
       "      <td>2744</td>\n",
       "      <td>1519</td>\n",
       "      <td>3017</td>\n",
       "      <td>2462</td>\n",
       "      <td>2289</td>\n",
       "      <td>2647</td>\n",
       "      <td>1594</td>\n",
       "      <td>3039</td>\n",
       "      <td>4393</td>\n",
       "      <td>5414</td>\n",
       "    </tr>\n",
       "    <tr>\n",
       "      <th>36</th>\n",
       "      <td>Oklahoma</td>\n",
       "      <td>982673</td>\n",
       "      <td>5</td>\n",
       "      <td>2</td>\n",
       "      <td>6</td>\n",
       "      <td>5</td>\n",
       "      <td>4</td>\n",
       "      <td>6</td>\n",
       "      <td>3</td>\n",
       "      <td>3</td>\n",
       "      <td>11</td>\n",
       "      <td>10</td>\n",
       "    </tr>\n",
       "    <tr>\n",
       "      <th>37</th>\n",
       "      <td>Oklahoma</td>\n",
       "      <td>982673</td>\n",
       "      <td>699</td>\n",
       "      <td>347</td>\n",
       "      <td>728</td>\n",
       "      <td>538</td>\n",
       "      <td>491</td>\n",
       "      <td>570</td>\n",
       "      <td>397</td>\n",
       "      <td>691</td>\n",
       "      <td>954</td>\n",
       "      <td>1340</td>\n",
       "    </tr>\n",
       "    <tr>\n",
       "      <th>38</th>\n",
       "      <td>Oregon</td>\n",
       "      <td>887033</td>\n",
       "      <td>912</td>\n",
       "      <td>469</td>\n",
       "      <td>971</td>\n",
       "      <td>730</td>\n",
       "      <td>726</td>\n",
       "      <td>771</td>\n",
       "      <td>498</td>\n",
       "      <td>1022</td>\n",
       "      <td>1377</td>\n",
       "      <td>1860</td>\n",
       "    </tr>\n",
       "    <tr>\n",
       "      <th>39</th>\n",
       "      <td>Pennsylvania</td>\n",
       "      <td>3064891</td>\n",
       "      <td>2448</td>\n",
       "      <td>1342</td>\n",
       "      <td>2542</td>\n",
       "      <td>2199</td>\n",
       "      <td>2114</td>\n",
       "      <td>2298</td>\n",
       "      <td>1318</td>\n",
       "      <td>2772</td>\n",
       "      <td>3940</td>\n",
       "      <td>5104</td>\n",
       "    </tr>\n",
       "    <tr>\n",
       "      <th>40</th>\n",
       "      <td>Rhode Island</td>\n",
       "      <td>229714</td>\n",
       "      <td>340</td>\n",
       "      <td>192</td>\n",
       "      <td>341</td>\n",
       "      <td>317</td>\n",
       "      <td>246</td>\n",
       "      <td>287</td>\n",
       "      <td>166</td>\n",
       "      <td>412</td>\n",
       "      <td>547</td>\n",
       "      <td>688</td>\n",
       "    </tr>\n",
       "    <tr>\n",
       "      <th>41</th>\n",
       "      <td>South Carolina</td>\n",
       "      <td>1215321</td>\n",
       "      <td>649</td>\n",
       "      <td>284</td>\n",
       "      <td>641</td>\n",
       "      <td>435</td>\n",
       "      <td>423</td>\n",
       "      <td>463</td>\n",
       "      <td>338</td>\n",
       "      <td>677</td>\n",
       "      <td>785</td>\n",
       "      <td>1250</td>\n",
       "    </tr>\n",
       "    <tr>\n",
       "      <th>42</th>\n",
       "      <td>South Dakota</td>\n",
       "      <td>183795</td>\n",
       "      <td>75</td>\n",
       "      <td>43</td>\n",
       "      <td>75</td>\n",
       "      <td>77</td>\n",
       "      <td>62</td>\n",
       "      <td>71</td>\n",
       "      <td>44</td>\n",
       "      <td>108</td>\n",
       "      <td>130</td>\n",
       "      <td>186</td>\n",
       "    </tr>\n",
       "    <tr>\n",
       "      <th>43</th>\n",
       "      <td>Tennessee</td>\n",
       "      <td>1667595</td>\n",
       "      <td>1608</td>\n",
       "      <td>719</td>\n",
       "      <td>1706</td>\n",
       "      <td>1178</td>\n",
       "      <td>1146</td>\n",
       "      <td>1273</td>\n",
       "      <td>841</td>\n",
       "      <td>1652</td>\n",
       "      <td>2066</td>\n",
       "      <td>3085</td>\n",
       "    </tr>\n",
       "    <tr>\n",
       "      <th>44</th>\n",
       "      <td>Texas</td>\n",
       "      <td>6359194</td>\n",
       "      <td>9604</td>\n",
       "      <td>4578</td>\n",
       "      <td>10239</td>\n",
       "      <td>7503</td>\n",
       "      <td>7080</td>\n",
       "      <td>8117</td>\n",
       "      <td>5266</td>\n",
       "      <td>9723</td>\n",
       "      <td>13006</td>\n",
       "      <td>17711</td>\n",
       "    </tr>\n",
       "    <tr>\n",
       "      <th>45</th>\n",
       "      <td>Utah</td>\n",
       "      <td>525268</td>\n",
       "      <td>606</td>\n",
       "      <td>298</td>\n",
       "      <td>622</td>\n",
       "      <td>424</td>\n",
       "      <td>488</td>\n",
       "      <td>498</td>\n",
       "      <td>326</td>\n",
       "      <td>672</td>\n",
       "      <td>890</td>\n",
       "      <td>1195</td>\n",
       "    </tr>\n",
       "    <tr>\n",
       "      <th>46</th>\n",
       "      <td>Vermont</td>\n",
       "      <td>136649</td>\n",
       "      <td>83</td>\n",
       "      <td>53</td>\n",
       "      <td>88</td>\n",
       "      <td>88</td>\n",
       "      <td>89</td>\n",
       "      <td>95</td>\n",
       "      <td>39</td>\n",
       "      <td>98</td>\n",
       "      <td>161</td>\n",
       "      <td>185</td>\n",
       "    </tr>\n",
       "    <tr>\n",
       "      <th>47</th>\n",
       "      <td>Virginia</td>\n",
       "      <td>1865663</td>\n",
       "      <td>1618</td>\n",
       "      <td>794</td>\n",
       "      <td>1692</td>\n",
       "      <td>1275</td>\n",
       "      <td>1264</td>\n",
       "      <td>1395</td>\n",
       "      <td>848</td>\n",
       "      <td>1648</td>\n",
       "      <td>2315</td>\n",
       "      <td>3114</td>\n",
       "    </tr>\n",
       "    <tr>\n",
       "      <th>48</th>\n",
       "      <td>Washington</td>\n",
       "      <td>1474030</td>\n",
       "      <td>1881</td>\n",
       "      <td>962</td>\n",
       "      <td>1910</td>\n",
       "      <td>1503</td>\n",
       "      <td>1493</td>\n",
       "      <td>1646</td>\n",
       "      <td>987</td>\n",
       "      <td>2085</td>\n",
       "      <td>2828</td>\n",
       "      <td>3772</td>\n",
       "    </tr>\n",
       "    <tr>\n",
       "      <th>49</th>\n",
       "      <td>West Virginia</td>\n",
       "      <td>579377</td>\n",
       "      <td>252</td>\n",
       "      <td>125</td>\n",
       "      <td>277</td>\n",
       "      <td>200</td>\n",
       "      <td>180</td>\n",
       "      <td>234</td>\n",
       "      <td>130</td>\n",
       "      <td>255</td>\n",
       "      <td>383</td>\n",
       "      <td>464</td>\n",
       "    </tr>\n",
       "    <tr>\n",
       "      <th>50</th>\n",
       "      <td>Wisconsin</td>\n",
       "      <td>1390635</td>\n",
       "      <td>715</td>\n",
       "      <td>316</td>\n",
       "      <td>770</td>\n",
       "      <td>495</td>\n",
       "      <td>507</td>\n",
       "      <td>607</td>\n",
       "      <td>326</td>\n",
       "      <td>760</td>\n",
       "      <td>965</td>\n",
       "      <td>1425</td>\n",
       "    </tr>\n",
       "    <tr>\n",
       "      <th>51</th>\n",
       "      <td>Wyoming</td>\n",
       "      <td>124312</td>\n",
       "      <td>108</td>\n",
       "      <td>44</td>\n",
       "      <td>99</td>\n",
       "      <td>50</td>\n",
       "      <td>63</td>\n",
       "      <td>67</td>\n",
       "      <td>59</td>\n",
       "      <td>121</td>\n",
       "      <td>116</td>\n",
       "      <td>194</td>\n",
       "    </tr>\n",
       "  </tbody>\n",
       "</table>\n",
       "</div>"
      ],
      "text/plain": [
       "                   state  obesity number    joy  anger  anticipation  disgust  \\\n",
       "0                Alabama         1321625    922    500          1014      809   \n",
       "1                 Alaska          154408    184     77           180      120   \n",
       "2                Arizona         1404408   1755    962          1822     1475   \n",
       "3               Arkansas          818396    429    187           447      314   \n",
       "4             California         7221318  13900   7058         14225    10697   \n",
       "5               Colorado          872799   1275    500          1308      826   \n",
       "6            Connecticut          756107    841    468           912      797   \n",
       "7               Delaware          231940    282    131           281      199   \n",
       "8   District of Columbia          123662   1010    527          1070      852   \n",
       "9                Florida         4539244   5588   2663          5634     4277   \n",
       "10               Georgia         2335733   2451   1098          2573     1852   \n",
       "11                Hawaii          263297    518    227           525      362   \n",
       "12                 Idaho          322921    211     97           225      163   \n",
       "13              Illinois         3080347   3478   1696          3467     2660   \n",
       "14               Indiana         1660978   1324    686          1443     1086   \n",
       "15                  Iowa          818903    419    211           452      383   \n",
       "16                Kansas          731127    441    222           457      325   \n",
       "17              Kentucky         1214157    647    333           720      509   \n",
       "18             Louisiana         1255648   1635    712          1766     1273   \n",
       "19                 Maine          319880    150     76           152      102   \n",
       "20              Maryland         1367798   1990   1046          2134     1726   \n",
       "21         Massachusetts         1317327   1650    973          1860     1523   \n",
       "22              Michigan         2486918   1642    852          1738     1364   \n",
       "23             Minnesota         1208204    864    502           938      755   \n",
       "24           Mississippi          872877    418    158           443      327   \n",
       "25              Missouri         1598416    937    507          1016      776   \n",
       "26               Montana          205646     62     30            61       45   \n",
       "27              Nebraska          466516   4765    209          4797     2445   \n",
       "28                Nevada          600090   1331    743          1339     1163   \n",
       "29         New Hampshire          304638    131     72           119      114   \n",
       "30            New Jersey         1725384   2324   1025          2325     1657   \n",
       "31            New Mexico          497967    294    140           294      222   \n",
       "32              New York         4160792   6304   3154          6690     4984   \n",
       "33        North Carolina         2390227   2210    975          2316     1660   \n",
       "34          North Dakota          183464     80     40            79       58   \n",
       "35                  Ohio         2995193   2744   1519          3017     2462   \n",
       "36              Oklahoma          982673      5      2             6        5   \n",
       "37              Oklahoma          982673    699    347           728      538   \n",
       "38                Oregon          887033    912    469           971      730   \n",
       "39          Pennsylvania         3064891   2448   1342          2542     2199   \n",
       "40          Rhode Island          229714    340    192           341      317   \n",
       "41        South Carolina         1215321    649    284           641      435   \n",
       "42          South Dakota          183795     75     43            75       77   \n",
       "43             Tennessee         1667595   1608    719          1706     1178   \n",
       "44                 Texas         6359194   9604   4578         10239     7503   \n",
       "45                  Utah          525268    606    298           622      424   \n",
       "46               Vermont          136649     83     53            88       88   \n",
       "47              Virginia         1865663   1618    794          1692     1275   \n",
       "48            Washington         1474030   1881    962          1910     1503   \n",
       "49         West Virginia          579377    252    125           277      200   \n",
       "50             Wisconsin         1390635    715    316           770      495   \n",
       "51               Wyoming          124312    108     44            99       50   \n",
       "\n",
       "     fear  sadness  surprise  trust  negative  positive  \n",
       "0     777      909       578    943      1333      1752  \n",
       "1     117      121       109    210       231       364  \n",
       "2    1431     1570       942   1956      2677      3499  \n",
       "3     306      335       203    409       504       753  \n",
       "4   10322    11402      7210  14662     19255     26957  \n",
       "5     776      948       598   1279      1598      2457  \n",
       "6     774      972       449   1005      1410      1736  \n",
       "7     209      202       140    283       380       514  \n",
       "8     844      966       510   1141      1567      2139  \n",
       "9    4054     4572      2813   5799      7741     10764  \n",
       "10   1768     1975      1233   2485      3167      4462  \n",
       "11    359      372       255    477       623       927  \n",
       "12    144      163       118    228       258       402  \n",
       "13   2724     3052      2054   3770      4877      6698  \n",
       "14   1019     1185       720   1415      2010      2537  \n",
       "15    355      401       240    458       650       870  \n",
       "16    337      390       254    469       616       856  \n",
       "17    513      569       363    716       952      1247  \n",
       "18   1176     1295       875   1553      2121      2807  \n",
       "19    106      116        68    174       200       285  \n",
       "20   1628     1839      1039   2085      2965      3737  \n",
       "21   1368     1659       930   1914      2760      3550  \n",
       "22   1355     1527       893   1852      2560      3327  \n",
       "23    719      789       469    994      1465      1677  \n",
       "24    289      327       216    376       541       700  \n",
       "25    765      834       501   1085      1467      1970  \n",
       "26     36       38        34     65        78       127  \n",
       "27   2508     2472      4590   4801      2712      5149  \n",
       "28   1004     1221       724   1400      2065      2498  \n",
       "29    102      132        69    122       203       259  \n",
       "30   1634     1807      1146   2551      3091      4418  \n",
       "31    204      244       141    313       404       569  \n",
       "32   4696     5356      3274   7035      9236     13000  \n",
       "33   1637     1749      1185   2237      2880      4077  \n",
       "34     48       58        45     97       104       162  \n",
       "35   2289     2647      1594   3039      4393      5414  \n",
       "36      4        6         3      3        11        10  \n",
       "37    491      570       397    691       954      1340  \n",
       "38    726      771       498   1022      1377      1860  \n",
       "39   2114     2298      1318   2772      3940      5104  \n",
       "40    246      287       166    412       547       688  \n",
       "41    423      463       338    677       785      1250  \n",
       "42     62       71        44    108       130       186  \n",
       "43   1146     1273       841   1652      2066      3085  \n",
       "44   7080     8117      5266   9723     13006     17711  \n",
       "45    488      498       326    672       890      1195  \n",
       "46     89       95        39     98       161       185  \n",
       "47   1264     1395       848   1648      2315      3114  \n",
       "48   1493     1646       987   2085      2828      3772  \n",
       "49    180      234       130    255       383       464  \n",
       "50    507      607       326    760       965      1425  \n",
       "51     63       67        59    121       116       194  "
      ]
     },
     "execution_count": 2,
     "metadata": {},
     "output_type": "execute_result"
    }
   ],
   "source": [
    "df = pd.read_csv(r'E:\\PY\\6.0 Correlation Analysis\\obesity_2018_sentimentscores_2019_state.csv')\n",
    "df"
   ]
  },
  {
   "cell_type": "code",
   "execution_count": 3,
   "metadata": {},
   "outputs": [],
   "source": [
    "plt.rcParams['figure.figsize'] = (15.0, 10.0)"
   ]
  },
  {
   "cell_type": "code",
   "execution_count": 4,
   "metadata": {},
   "outputs": [
    {
     "data": {
      "text/plain": [
       "<AxesSubplot:>"
      ]
     },
     "execution_count": 4,
     "metadata": {},
     "output_type": "execute_result"
    },
    {
     "data": {
      "image/png": "[encoded data removed]",
      "text/plain": [
       "<Figure size 1080x720 with 2 Axes>"
      ]
     },
     "metadata": {
      "needs_background": "light"
     },
     "output_type": "display_data"
    }
   ],
   "source": [
    "# plt.figure(figsize=(15, 10))\n",
    "#matrix = np.ones_like(new_df.corr())\n",
    "\n",
    "sns.heatmap(df.corr(), annot = True,square=True,cmap= 'coolwarm', linewidths=1,linecolor='black')"
   ]
  },
  {
   "cell_type": "markdown",
   "metadata": {
    "colab_type": "text",
    "id": "4rxXOMLZcgvd"
   },
   "source": [
    "There are about 18 arguments in the seaborn heatmap function"
   ]
  },
  {
   "cell_type": "markdown",
   "metadata": {
    "colab_type": "text",
    "id": "cLsMWrN3czEL"
   },
   "source": [
    "#### Doing a basic correlation matrix of your data frame"
   ]
  },
  {
   "cell_type": "code",
   "execution_count": 22,
   "metadata": {
    "colab": {
     "base_uri": "https://localhost:8080/",
     "height": 288
    },
    "colab_type": "code",
    "id": "iksA9st_YS0p",
    "outputId": "a0fc45cf-d968-4a89-e2b3-f03938ea796c"
   },
   "outputs": [
    {
     "data": {
      "text/plain": [
       "<AxesSubplot:>"
      ]
     },
     "execution_count": 22,
     "metadata": {},
     "output_type": "execute_result"
    },
    {
     "data": {
      "image/png": "[encoded data removed]",
      "text/plain": [
       "<Figure size 1080x720 with 2 Axes>"
      ]
     },
     "metadata": {
      "needs_background": "light"
     },
     "output_type": "display_data"
    }
   ],
   "source": [
    "mask = np.triu(df.corr())\n",
    "sns.heatmap(df.corr(method= 'kendall'), annot = True,square=True,cmap= 'OrRd', linewidths=1,linecolor='black',mask=mask)"
   ]
  },
  {
   "cell_type": "markdown",
   "metadata": {
    "colab_type": "text",
    "id": "i_dp66MGuvjk"
   },
   "source": [
    "#### and using the annotation argument"
   ]
  },
  {
   "cell_type": "code",
   "execution_count": null,
   "metadata": {
    "colab": {
     "base_uri": "https://localhost:8080/",
     "height": 288
    },
    "colab_type": "code",
    "id": "8M8Id4ZNZkXe",
    "outputId": "0fc45f44-1305-4168-98ee-e2160ec8bab4"
   },
   "outputs": [],
   "source": [
    "#and using the annotation argument\n",
    "sns.heatmap(tips_df.corr(), annot=True)"
   ]
  },
  {
   "cell_type": "markdown",
   "metadata": {
    "colab_type": "text",
    "id": "kbBVtIhxdbXV"
   },
   "source": [
    "## Understanding the data component"
   ]
  },
  {
   "cell_type": "code",
   "execution_count": null,
   "metadata": {
    "colab": {
     "base_uri": "https://localhost:8080/",
     "height": 230
    },
    "colab_type": "code",
    "id": "tJ5Z_N71Z8Wy",
    "outputId": "d25df91d-3a90-44fa-8640-69178ba4aed1"
   },
   "outputs": [],
   "source": [
    "tips_df.info()"
   ]
  },
  {
   "cell_type": "markdown",
   "metadata": {
    "colab_type": "text",
    "id": "YK2_JkjGd8JE"
   },
   "source": [
    "## Data Cleaning & Feature Engineering\n",
    "- Changing the data types\n",
    "- Checking the categories to a dummy variable so as to get only numeric vaules"
   ]
  },
  {
   "cell_type": "markdown",
   "metadata": {
    "colab_type": "text",
    "id": "iapRrCE2wPR7"
   },
   "source": [
    " Selecting all the category columns "
   ]
  },
  {
   "cell_type": "code",
   "execution_count": null,
   "metadata": {
    "colab": {
     "base_uri": "https://localhost:8080/",
     "height": 35
    },
    "colab_type": "code",
    "id": "VVNkDcFXcAvU",
    "outputId": "4fa5621f-03db-4ed6-918a-95848619fa41"
   },
   "outputs": [],
   "source": [
    "cat_list = tips_df.select_dtypes(include='category').columns.to_list()\n",
    "cat_list"
   ]
  },
  {
   "cell_type": "markdown",
   "metadata": {
    "colab_type": "text",
    "id": "mO6A9jOKwh4e"
   },
   "source": [
    "Putting all the category columns in a list(using list comprehension except the day column because it has more than two unique variables."
   ]
  },
  {
   "cell_type": "code",
   "execution_count": null,
   "metadata": {
    "colab": {
     "base_uri": "https://localhost:8080/",
     "height": 35
    },
    "colab_type": "code",
    "id": "uP8dNjecgXTS",
    "outputId": "6b226915-0db7-4e20-a459-79af2beee22d"
   },
   "outputs": [],
   "source": [
    "new_cat = [i for i in cat_list if not i == 'day']\n",
    "new_cat"
   ]
  },
  {
   "cell_type": "markdown",
   "metadata": {
    "colab_type": "text",
    "id": "wqC3SVXx22o9"
   },
   "source": [
    "To create a list of lists for each of the variables in each category column"
   ]
  },
  {
   "cell_type": "code",
   "execution_count": null,
   "metadata": {
    "colab": {
     "base_uri": "https://localhost:8080/",
     "height": 35
    },
    "colab_type": "code",
    "id": "YS50wL6u0lgB",
    "outputId": "2350c38b-1dcc-41e4-8465-1b48c2eb211a"
   },
   "outputs": [],
   "source": [
    "great_list = []\n",
    "for i in new_cat:\n",
    "  new_list = tips_df[i].unique().to_list()\n",
    "  great_list.append(new_list)\n",
    "\n",
    "great_list"
   ]
  },
  {
   "cell_type": "markdown",
   "metadata": {
    "colab_type": "text",
    "id": "8_KAsFZcwtZd"
   },
   "source": [
    "Using a for-loop to create a new column  that has the binary numbers (dummy variables of all the columns in the new_cat list."
   ]
  },
  {
   "cell_type": "code",
   "execution_count": null,
   "metadata": {
    "colab": {},
    "colab_type": "code",
    "id": "TwW_YB-4ijJM"
   },
   "outputs": [],
   "source": [
    "count = 0\n",
    "for i in new_cat:\n",
    "    tips_df[i+'_num'] = np.where(tips_df[i] == great_list[count][0], 0, 1)\n",
    "    count += 1"
   ]
  },
  {
   "cell_type": "markdown",
   "metadata": {
    "colab_type": "text",
    "id": "yUmrKlx8xqIX"
   },
   "source": [
    "Overview of the information again"
   ]
  },
  {
   "cell_type": "code",
   "execution_count": null,
   "metadata": {
    "colab": {
     "base_uri": "https://localhost:8080/",
     "height": 284
    },
    "colab_type": "code",
    "id": "F5ahiVYAjTar",
    "outputId": "352a4d5b-c9e0-4c63-b6af-ba1ba26bb239"
   },
   "outputs": [],
   "source": [
    "tips_df.info()"
   ]
  },
  {
   "cell_type": "code",
   "execution_count": null,
   "metadata": {
    "colab": {
     "base_uri": "https://localhost:8080/",
     "height": 200
    },
    "colab_type": "code",
    "id": "ePuxy-WHjWH4",
    "outputId": "0c90d5f4-fff4-42d1-8788-bf2c942cf8cf"
   },
   "outputs": [],
   "source": [
    "tips_df.sample(5)"
   ]
  },
  {
   "cell_type": "markdown",
   "metadata": {
    "colab_type": "text",
    "id": "ivBne0Bux4pG"
   },
   "source": [
    "Change the variables in the day column into dummy variables"
   ]
  },
  {
   "cell_type": "code",
   "execution_count": null,
   "metadata": {
    "colab": {
     "base_uri": "https://localhost:8080/",
     "height": 200
    },
    "colab_type": "code",
    "id": "Ai1Nl51Ljc7b",
    "outputId": "a27108ac-03a3-4b1b-e39d-de69bf5b6328"
   },
   "outputs": [],
   "source": [
    "day_df= pd.get_dummies(tips_df['day'])\n",
    "day_df.head()"
   ]
  },
  {
   "cell_type": "markdown",
   "metadata": {
    "colab_type": "text",
    "id": "bdCcHg7tyBAs"
   },
   "source": [
    "And merge it with the previous dataframe"
   ]
  },
  {
   "cell_type": "code",
   "execution_count": null,
   "metadata": {
    "colab": {
     "base_uri": "https://localhost:8080/",
     "height": 200
    },
    "colab_type": "code",
    "id": "lWByl0iFmtsl",
    "outputId": "f7bf8b84-c352-4794-ad64-7fb3cfb249ae"
   },
   "outputs": [],
   "source": [
    "new_df = pd.merge(tips_df, day_df, right_index=True, left_index=True)\n",
    "\n",
    "new_df.head()"
   ]
  },
  {
   "cell_type": "markdown",
   "metadata": {
    "colab_type": "text",
    "id": "ExweS0KM3HFG"
   },
   "source": [
    "Selecting just the numeric columns and creating a new dataframe"
   ]
  },
  {
   "cell_type": "code",
   "execution_count": null,
   "metadata": {
    "colab": {
     "base_uri": "https://localhost:8080/",
     "height": 200
    },
    "colab_type": "code",
    "id": "-AXGcPUE01pq",
    "outputId": "f2378eef-3fed-4222-9fb0-91bc4ced6076"
   },
   "outputs": [],
   "source": [
    "df_new = new_df.select_dtypes(include=np.number)\n",
    "df_new.head()"
   ]
  },
  {
   "cell_type": "markdown",
   "metadata": {
    "colab_type": "text",
    "id": "OCnQ-DvUyF-t"
   },
   "source": [
    "Checking for missing values."
   ]
  },
  {
   "cell_type": "code",
   "execution_count": null,
   "metadata": {
    "colab": {
     "base_uri": "https://localhost:8080/",
     "height": 212
    },
    "colab_type": "code",
    "id": "snCdSiGsoTJG",
    "outputId": "0a8c913a-3ba0-4add-b7a8-c0f22841da02"
   },
   "outputs": [],
   "source": [
    "df_new.isnull().sum()"
   ]
  },
  {
   "cell_type": "markdown",
   "metadata": {
    "colab_type": "text",
    "id": "TUg_ipD3pqq7"
   },
   "source": [
    "## The complete Seaborn.heatmap() function\n",
    "\n",
    "sns.heatmap(data, vmin=None, vmax=None, cmap=None,center=None, robust=False, annot=None, fmt='.2g', annot_kws=None, linewidths=0, linecolor='white', cbar=True, cbar_kws=None, cbar_ax=None, square=False, xticklabels='auto', yticklabels='auto', mask=None, ax=None, **kwargs) 18 arguments"
   ]
  },
  {
   "cell_type": "markdown",
   "metadata": {
    "colab_type": "text",
    "id": "BlMM5N75eUaR"
   },
   "source": [
    "## Digging into the sns heatmap code\n",
    "Breaking it down into\n",
    "- The Essentials\n",
    "- Adjusting the axis(measurement)\n",
    "- Asthestics \n",
    "- Changing the matrix shape"
   ]
  },
  {
   "cell_type": "markdown",
   "metadata": {
    "colab_type": "text",
    "id": "pegRDuYOhyHq"
   },
   "source": [
    "#### The Essentials"
   ]
  },
  {
   "cell_type": "code",
   "execution_count": null,
   "metadata": {
    "colab": {
     "base_uri": "https://localhost:8080/",
     "height": 614
    },
    "colab_type": "code",
    "id": "oNajBIbLob9d",
    "outputId": "c8d63a3b-d405-4cbe-f283-eec2a6a7574a"
   },
   "outputs": [],
   "source": [
    "plt.rcParams['figure.figsize'] = (15.0, 10.0)\n",
    "sns.heatmap(tips_df.corr())"
   ]
  },
  {
   "cell_type": "code",
   "execution_count": null,
   "metadata": {
    "colab": {
     "base_uri": "https://localhost:8080/",
     "height": 614
    },
    "colab_type": "code",
    "id": "y-z0oSdRo30B",
    "outputId": "2980aeef-e6fc-4fa1-c729-62e28d0faaf4"
   },
   "outputs": [],
   "source": [
    "sns.heatmap(tips_df.corr(), annot = True)"
   ]
  },
  {
   "cell_type": "code",
   "execution_count": null,
   "metadata": {
    "colab": {
     "base_uri": "https://localhost:8080/",
     "height": 614
    },
    "colab_type": "code",
    "id": "35S_kpq7cOJz",
    "outputId": "e0b0cb08-b7ec-4a80-b9e3-aec5fc8b7f3a"
   },
   "outputs": [],
   "source": [
    "sns.heatmap(tips_df.corr(), annot = True, fmt='.1g')"
   ]
  },
  {
   "cell_type": "markdown",
   "metadata": {
    "colab_type": "text",
    "id": "OCMaPvfPh-de"
   },
   "source": [
    "#### Adjusting the axis(measurements)"
   ]
  },
  {
   "cell_type": "code",
   "execution_count": null,
   "metadata": {
    "colab": {
     "base_uri": "https://localhost:8080/",
     "height": 614
    },
    "colab_type": "code",
    "id": "Ma75PGqgp20e",
    "outputId": "e74af6c7-aa19-4bf6-be1f-130192bfb90e"
   },
   "outputs": [],
   "source": [
    "sns.heatmap(df_new.corr(), annot = True, vmin=-1, vmax=1, center= 0)"
   ]
  },
  {
   "cell_type": "markdown",
   "metadata": {
    "colab_type": "text",
    "id": "CEUwB20HikeI"
   },
   "source": [
    "#### Aesthetic"
   ]
  },
  {
   "cell_type": "code",
   "execution_count": null,
   "metadata": {
    "colab": {
     "base_uri": "https://localhost:8080/",
     "height": 614
    },
    "colab_type": "code",
    "id": "kEO7NZ-RqIrx",
    "outputId": "524c200d-6ed0-4bde-d1d1-cae284e2dded"
   },
   "outputs": [],
   "source": [
    "sns.heatmap(tips_df.corr(), annot = True, vmin=-1, vmax=1, center= 0, cmap= 'coolwarm')"
   ]
  },
  {
   "cell_type": "code",
   "execution_count": null,
   "metadata": {
    "colab": {
     "base_uri": "https://localhost:8080/",
     "height": 614
    },
    "colab_type": "code",
    "id": "vA6DnbMMrrux",
    "outputId": "3d0934a4-f1f0-4636-b4a2-4046fd59e097"
   },
   "outputs": [],
   "source": [
    "sns.heatmap(df_new.corr(), annot = True, vmin=-1, vmax=1, center= 0, cmap= 'coolwarm', linewidths=3, linecolor='black')"
   ]
  },
  {
   "cell_type": "code",
   "execution_count": null,
   "metadata": {
    "colab": {
     "base_uri": "https://localhost:8080/",
     "height": 572
    },
    "colab_type": "code",
    "id": "z5n6A6YPtaHB",
    "outputId": "ed939775-819e-415d-a98b-69465fbd3729",
    "scrolled": true
   },
   "outputs": [],
   "source": [
    "# plt.figure(figsize=(15, 10))\n",
    "sns.heatmap(df_new.corr(), annot = True,  cbar_kws= {'orientation': 'horizontal'} )"
   ]
  },
  {
   "cell_type": "code",
   "execution_count": null,
   "metadata": {
    "colab": {
     "base_uri": "https://localhost:8080/",
     "height": 614
    },
    "colab_type": "code",
    "id": "Qa9wUsE3schi",
    "outputId": "d017f700-9978-4ef3-f41b-a408a9fbb6f0"
   },
   "outputs": [],
   "source": [
    "sns.heatmap(df.corr(), annot = True,  cbar=False)"
   ]
  },
  {
   "cell_type": "code",
   "execution_count": 5,
   "metadata": {
    "colab": {
     "base_uri": "https://localhost:8080/",
     "height": 667
    },
    "colab_type": "code",
    "id": "3OczYZRUt6dN",
    "outputId": "93c72317-8053-49cc-f4b4-36cff8d71d44"
   },
   "outputs": [
    {
     "data": {
      "text/plain": [
       "<AxesSubplot:>"
      ]
     },
     "execution_count": 5,
     "metadata": {},
     "output_type": "execute_result"
    },
    {
     "data": {
      "image/png": "[encoded data removed]",
      "text/plain": [
       "<Figure size 432x288 with 2 Axes>"
      ]
     },
     "metadata": {
      "needs_background": "light"
     },
     "output_type": "display_data"
    }
   ],
   "source": [
    "mask = np.triu(df.corr())\n",
    "sns.heatmap(df.corr(), annot = True,square=True,cmap= 'coolwarm', linewidths=1,linecolor='black',mask=mask)"
   ]
  },
  {
   "cell_type": "markdown",
   "metadata": {
    "colab_type": "text",
    "id": "2SobSdQWir-o"
   },
   "source": [
    "#### Changing the matrix shape"
   ]
  },
  {
   "cell_type": "code",
   "execution_count": 16,
   "metadata": {
    "colab": {
     "base_uri": "https://localhost:8080/",
     "height": 614
    },
    "colab_type": "code",
    "id": "f5CS-Lv6upDa",
    "outputId": "ed9f5771-30ee-4a86-d1a5-e9c7d3e778af"
   },
   "outputs": [
    {
     "data": {
      "text/plain": [
       "<AxesSubplot:>"
      ]
     },
     "execution_count": 16,
     "metadata": {},
     "output_type": "execute_result"
    },
    {
     "data": {
      "image/png": "[encoded data removed]",
      "text/plain": [
       "<Figure size 1080x720 with 2 Axes>"
      ]
     },
     "metadata": {
      "needs_background": "light"
     },
     "output_type": "display_data"
    }
   ],
   "source": [
    "# plt.figure(figsize=(15, 10))\n",
    "#matrix= np.zeros_like(new_df.corr())\n",
    "#matrix[np.triu_indices_from(new_df.corr())] = True\n",
    "matrix = np.triu(df.corr())\n",
    "sns.heatmap(df.corr(), annot=True, mask=matrix)"
   ]
  },
  {
   "cell_type": "code",
   "execution_count": 17,
   "metadata": {
    "colab": {
     "base_uri": "https://localhost:8080/",
     "height": 614
    },
    "colab_type": "code",
    "id": "esDmEfLKvOtk",
    "outputId": "75b1c302-7208-4670-c9df-f3e4e13b10e2"
   },
   "outputs": [
    {
     "data": {
      "text/plain": [
       "<AxesSubplot:>"
      ]
     },
     "execution_count": 17,
     "metadata": {},
     "output_type": "execute_result"
    },
    {
     "data": {
      "image/png": "[encoded data removed]",
      "text/plain": [
       "<Figure size 1080x720 with 2 Axes>"
      ]
     },
     "metadata": {
      "needs_background": "light"
     },
     "output_type": "display_data"
    }
   ],
   "source": [
    "# plt.figure(figsize=(15, 10))\n",
    "#matrix = np.ones_like(new_df.corr())\n",
    "mask = np.tril(df.corr())\n",
    "sns.heatmap(df.corr(), annot=True, mask=mask)"
   ]
  },
  {
   "cell_type": "code",
   "execution_count": null,
   "metadata": {
    "colab": {},
    "colab_type": "code",
    "id": "pfqpPHaTP4SU"
   },
   "outputs": [],
   "source": []
  }
 ],
 "metadata": {
  "colab": {
   "collapsed_sections": [],
   "name": "dissecting_heatmap.ipynb",
   "provenance": [],
   "version": "0.3.2"
  },
  "kernelspec": {
   "display_name": "Python 3",
   "language": "python",
   "name": "python3"
  },
  "language_info": {
   "codemirror_mode": {
    "name": "ipython",
    "version": 3
   },
   "file_extension": ".py",
   "mimetype": "text/x-python",
   "name": "python",
   "nbconvert_exporter": "python",
   "pygments_lexer": "ipython3",
   "version": "3.8.8"
  }
 },
 "nbformat": 4,
 "nbformat_minor": 1
}
