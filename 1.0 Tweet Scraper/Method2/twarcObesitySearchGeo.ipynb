{
 "cells": [
  {
   "cell_type": "code",
   "execution_count": 1,
   "id": "54feec6e",
   "metadata": {},
   "outputs": [
    {
     "name": "stdout",
     "output_type": "stream",
     "text": [
      "Requirement already satisfied: twarc in f:\\anaconda3\\lib\\site-packages (2.8.1)\n",
      "Requirement already satisfied: click<9,>=7 in f:\\anaconda3\\lib\\site-packages (from twarc) (7.1.2)\n",
      "Requirement already satisfied: python-dateutil>=2.8 in f:\\anaconda3\\lib\\site-packages (from twarc) (2.8.1)\n",
      "Requirement already satisfied: click-plugins>=1 in f:\\anaconda3\\lib\\site-packages (from twarc) (1.1.1)\n",
      "Requirement already satisfied: requests-oauthlib>=1.3 in f:\\anaconda3\\lib\\site-packages (from twarc) (1.3.0)\n",
      "Requirement already satisfied: humanize>=3.9 in f:\\anaconda3\\lib\\site-packages (from twarc) (3.12.0)\n",
      "Requirement already satisfied: tqdm>=4.62 in f:\\anaconda3\\lib\\site-packages (from twarc) (4.62.3)\n",
      "Requirement already satisfied: click-config-file>=0.6 in f:\\anaconda3\\lib\\site-packages (from twarc) (0.6.0)\n",
      "Requirement already satisfied: configobj>=5.0.6 in f:\\anaconda3\\lib\\site-packages (from click-config-file>=0.6->twarc) (5.0.6)\n",
      "Requirement already satisfied: six in f:\\anaconda3\\lib\\site-packages (from configobj>=5.0.6->click-config-file>=0.6->twarc) (1.15.0)\n",
      "Requirement already satisfied: setuptools in f:\\anaconda3\\lib\\site-packages (from humanize>=3.9->twarc) (52.0.0.post20210125)\n",
      "Requirement already satisfied: oauthlib>=3.0.0 in f:\\anaconda3\\lib\\site-packages (from requests-oauthlib>=1.3->twarc) (3.1.1)\n",
      "Requirement already satisfied: requests>=2.0.0 in f:\\anaconda3\\lib\\site-packages (from requests-oauthlib>=1.3->twarc) (2.26.0)\n",
      "Requirement already satisfied: certifi>=2017.4.17 in f:\\anaconda3\\lib\\site-packages (from requests>=2.0.0->requests-oauthlib>=1.3->twarc) (2021.10.8)\n",
      "Requirement already satisfied: urllib3<1.27,>=1.21.1 in f:\\anaconda3\\lib\\site-packages (from requests>=2.0.0->requests-oauthlib>=1.3->twarc) (1.26.7)\n",
      "Requirement already satisfied: charset-normalizer~=2.0.0 in f:\\anaconda3\\lib\\site-packages (from requests>=2.0.0->requests-oauthlib>=1.3->twarc) (2.0.7)\n",
      "Requirement already satisfied: idna<4,>=2.5 in f:\\anaconda3\\lib\\site-packages (from requests>=2.0.0->requests-oauthlib>=1.3->twarc) (3.3)\n",
      "Requirement already satisfied: colorama in f:\\anaconda3\\lib\\site-packages (from tqdm>=4.62->twarc) (0.4.4)\n"
     ]
    }
   ],
   "source": [
    "!pip3 install twarc --upgrade twarc"
   ]
  },
  {
   "cell_type": "code",
   "execution_count": 1,
   "id": "4b278bd4",
   "metadata": {},
   "outputs": [
    {
     "name": "stdout",
     "output_type": "stream",
     "text": [
      "usage: twarc [-h] [--log LOG] [--consumer_key CONSUMER_KEY]\n",
      "             [--consumer_secret CONSUMER_SECRET] [--access_token ACCESS_TOKEN]\n",
      "             [--access_token_secret ACCESS_TOKEN_SECRET] [--config CONFIG]\n",
      "             [--profile PROFILE] [--warnings]\n",
      "             [--connection_errors CONNECTION_ERRORS]\n",
      "             [--http_errors HTTP_ERRORS] [--max_id MAX_ID]\n",
      "             [--since_id SINCE_ID] [--result_type {mixed,recent,popular}]\n",
      "             [--lang LANG] [--geocode GEOCODE] [--locations LOCATIONS]\n",
      "             [--follow FOLLOW] [--recursive] [--tweet_mode {compat,extended}]\n",
      "             [--protected] [--output OUTPUT] [--format {json,csv,csv-excel}]\n",
      "             [--split SPLIT] [--skip_key_validation] [--app_auth]\n",
      "             [--gnip_auth] [--30day THIRTYDAY] [--fullarchive FULLARCHIVE]\n",
      "             [--gnip_fullarchive GNIP_FULLARCHIVE] [--from_date FROM_DATE]\n",
      "             [--to_date TO_DATE] [--limit LIMIT] [--sandbox]\n",
      "             {configure,dehydrate,filter,followers,friends,help,hydrate,replies,retweets,sample,search,timeline,trends,tweet,users,listmembers,version}\n",
      "             [query]\n",
      "\n",
      "positional arguments:\n",
      "  {configure,dehydrate,filter,followers,friends,help,hydrate,replies,retweets,sample,search,timeline,trends,tweet,users,listmembers,version}\n",
      "  query\n",
      "\n",
      "optional arguments:\n",
      "  -h, --help            show this help message and exit\n",
      "  --log LOG             log file\n",
      "  --consumer_key CONSUMER_KEY\n",
      "                        Twitter API consumer key\n",
      "  --consumer_secret CONSUMER_SECRET\n",
      "                        Twitter API consumer secret\n",
      "  --access_token ACCESS_TOKEN\n",
      "                        Twitter API access key\n",
      "  --access_token_secret ACCESS_TOKEN_SECRET\n",
      "                        Twitter API access token secret\n",
      "  --config CONFIG       Config file containing Twitter keys and secrets\n",
      "  --profile PROFILE     Name of a profile in your configuration file\n",
      "  --warnings            Include warning messages in output\n",
      "  --connection_errors CONNECTION_ERRORS\n",
      "                        Number of connection errors before giving up\n",
      "  --http_errors HTTP_ERRORS\n",
      "                        Number of http errors before giving up\n",
      "  --max_id MAX_ID       maximum tweet id to search for\n",
      "  --since_id SINCE_ID   smallest id to search for\n",
      "  --result_type {mixed,recent,popular}\n",
      "                        search result type\n",
      "  --lang LANG           limit to ISO 639-1 language code\n",
      "  --geocode GEOCODE     limit by latitude,longitude,radius\n",
      "  --locations LOCATIONS\n",
      "                        limit filter stream to location(s)\n",
      "  --follow FOLLOW       limit filter to tweets from given user id(s)\n",
      "  --recursive           also fetch replies to replies\n",
      "  --tweet_mode {compat,extended}\n",
      "                        set tweet mode\n",
      "  --protected           include protected tweets\n",
      "  --output OUTPUT       write output to file path\n",
      "  --format {json,csv,csv-excel}\n",
      "                        set output format\n",
      "  --split SPLIT         used with --output to split into numbered files\n",
      "  --skip_key_validation\n",
      "                        skip checking keys are valid on startup\n",
      "  --app_auth            run in App Auth mode instead of User Auth\n",
      "  --gnip_auth           run in Gnip Auth mode (for enterprise APIs)\n",
      "  --30day THIRTYDAY     environment to use to search 30day premium endpoint\n",
      "  --fullarchive FULLARCHIVE\n",
      "                        environment to use to search fullarchive premium\n",
      "                        endpoint\n",
      "  --gnip_fullarchive GNIP_FULLARCHIVE\n",
      "                        environment to use to search gnip fullarchive\n",
      "                        enterprise endpoint\n",
      "  --from_date FROM_DATE\n",
      "                        limit premium search to date e.g. 2012-05-01 03:04:01\n",
      "  --to_date TO_DATE     limit premium search to date e.g. 2012-05-01 03:04:01\n",
      "  --limit LIMIT         limit number of tweets returned by Premium API\n",
      "  --sandbox             indicate that Premium API endpoint is a sandbox\n"
     ]
    }
   ],
   "source": [
    "#import twarc\n",
    "!twarc --help"
   ]
  },
  {
   "cell_type": "code",
   "execution_count": null,
   "id": "e28e7d0d",
   "metadata": {},
   "outputs": [],
   "source": []
  },
  {
   "cell_type": "code",
   "execution_count": null,
   "id": "de5ea8b0",
   "metadata": {},
   "outputs": [],
   "source": [
    "#! pip install twarc\n",
    "#!pip3 install --upgrade twarc\n",
    "#!pip3 install --upgrade twarc-csv\n",
    "import twarc"
   ]
  },
  {
   "cell_type": "markdown",
   "id": "1d035af4",
   "metadata": {},
   "source": [
    "# 1. Get the tweets"
   ]
  },
  {
   "cell_type": "code",
   "execution_count": null,
   "id": "26ef8d36",
   "metadata": {},
   "outputs": [],
   "source": [
    "!twarc2 search --archive --limit 50000000 --start-time \"2020-03-01\" --end-time \"2020-03-10\" \\\n",
    "\"(obesity) OR (#obesity) OR (obese)OR (overweight)OR (#overweight)OR(fat)OR (gain weight)OR(bmi)OR(#bmi)OR(diet)OR(#diet)OR(excercise)OR(#excercise)OR(calories)\\\n",
    "-from:username lang:en\" original_results_2020-03-01_2020-03-20_v2.jsonl "
   ]
  },
  {
   "cell_type": "code",
   "execution_count": null,
   "id": "0e41a2a9",
   "metadata": {},
   "outputs": [],
   "source": [
    "#working\n",
    "!twarc2 search --archive --limit 500000 --start-time \"2019-03-01\" --end-time \"2019-04-01\" \\\n",
    "--expansions \"author_id,geo.place_id,in_reply_to_user_id,referenced_tweets.id,referenced_tweets.id.author_id,entities.mentions.username\" \\\n",
    "--tweet-fields \"id,text,author_id,context_annotations,public_metrics,conversation_id,created_at,geo\" \\\n",
    "--user-fields \"created_at,id,location,name,public_metrics\" \\\n",
    "--place-fields \"contained_within,country,country_code,full_name,geo,id,name,place_type\" \\\n",
    "\"(obesity OR #obesity OR obese OR overweight OR #overweightOR fat OR (gain weight) OR bmi OR #bmi OR diet OR #diet OR excercise OR #excercise OR calories) lang:en place_country:US -from:username -is:retweet\" original_results_2019-03-01_2019-03-31.jsonl "
   ]
  },
  {
   "cell_type": "code",
   "execution_count": null,
   "id": "cb4a6800",
   "metadata": {
    "scrolled": true
   },
   "outputs": [],
   "source": [
    "#working\n",
    "!twarc2 search --archive --limit 500000 --start-time \"2021-03-01\" --end-time \"2021-04-01\" \\\n",
    "--expansions \"author_id,geo.place_id,in_reply_to_user_id,referenced_tweets.id,referenced_tweets.id.author_id,entities.mentions.username\" \\\n",
    "--tweet-fields \"id,text,author_id,context_annotations,public_metrics,conversation_id,created_at,geo\" \\\n",
    "--user-fields \"created_at,id,location,name,public_metrics\" \\\n",
    "--place-fields \"contained_within,country,country_code,full_name,geo,id,name,place_type\" \\\n",
    "\"(obesity OR #obesity OR obese OR overweight OR #overweightOR fat OR (gain weight) OR bmi OR #bmi OR diet OR #diet OR excercise OR #excercise OR calories) lang:en place_country:US -from:username -is:retweet\" original_results_2021-03-01_2021-03-31.jsonl "
   ]
  },
  {
   "cell_type": "code",
   "execution_count": null,
   "id": "fe6bfaac",
   "metadata": {
    "scrolled": true
   },
   "outputs": [],
   "source": [
    "#!twarc2 search --help"
   ]
  },
  {
   "cell_type": "code",
   "execution_count": null,
   "id": "d90321b7",
   "metadata": {},
   "outputs": [],
   "source": [
    "#!twarc2 search --help\n",
    "# place_country:US\n",
    "# has:geo\n",
    "\n",
    "#(obesity) OR (#obesity) OR (obese) OR (overweight) OR (#overweight)OR (fat) OR (gain weight) OR (bmi) OR (#bmi) OR (diet) OR (#diet) OR (excercise) OR (#excercise) OR (calories)"
   ]
  },
  {
   "cell_type": "markdown",
   "id": "f7fd1d9b",
   "metadata": {},
   "source": [
    "# 2. Convert to CSV"
   ]
  },
  {
   "cell_type": "code",
   "execution_count": null,
   "id": "13cd3648",
   "metadata": {},
   "outputs": [],
   "source": [
    "!twarc2 csv original_results_2019-03-01_2019-03-31.jsonl  geo_US_-retweet_2019-03-01_2019-03-31.csv"
   ]
  },
  {
   "cell_type": "markdown",
   "id": "80851d07",
   "metadata": {},
   "source": [
    "# 3. Count the tweets"
   ]
  },
  {
   "cell_type": "markdown",
   "id": "c314bdc4",
   "metadata": {},
   "source": [
    "If you just want to count the number of tweets by day/hour"
   ]
  },
  {
   "cell_type": "code",
   "execution_count": null,
   "id": "48e4a682",
   "metadata": {},
   "outputs": [],
   "source": [
    "!twarc2 counts --csv --granularity day > granularity_day_count.csv"
   ]
  },
  {
   "cell_type": "markdown",
   "id": "7e14d11b",
   "metadata": {},
   "source": [
    "# 4. Flatten the json file  "
   ]
  },
  {
   "cell_type": "markdown",
   "id": "9824170e",
   "metadata": {},
   "source": [
    "This means to put each tweet in a line, instead of a whole json structure:"
   ]
  },
  {
   "cell_type": "code",
   "execution_count": null,
   "id": "2cc9befe",
   "metadata": {},
   "outputs": [],
   "source": [
    "!twarc2 flatten original_results_2019-03-01_2019-03-10.jsonl search_flatten.jsonl"
   ]
  },
  {
   "cell_type": "code",
   "execution_count": null,
   "id": "6b3429e4",
   "metadata": {},
   "outputs": [],
   "source": [
    "!twarc2 stream-rules list"
   ]
  },
  {
   "cell_type": "code",
   "execution_count": null,
   "id": "fda27149",
   "metadata": {},
   "outputs": [],
   "source": []
  },
  {
   "cell_type": "code",
   "execution_count": null,
   "id": "affa01a0",
   "metadata": {},
   "outputs": [],
   "source": []
  },
  {
   "cell_type": "code",
   "execution_count": null,
   "id": "ce77d411",
   "metadata": {},
   "outputs": [],
   "source": [
    "import pandas as pd"
   ]
  },
  {
   "cell_type": "code",
   "execution_count": null,
   "id": "430de2f3",
   "metadata": {},
   "outputs": [],
   "source": [
    "df= pd.read_csv(\"original_results_2020-03-10_2020-03-10.csv\")"
   ]
  },
  {
   "cell_type": "code",
   "execution_count": null,
   "id": "f9a4c7fa",
   "metadata": {},
   "outputs": [],
   "source": [
    "df"
   ]
  },
  {
   "cell_type": "code",
   "execution_count": null,
   "id": "ca5481aa",
   "metadata": {},
   "outputs": [],
   "source": []
  }
 ],
 "metadata": {
  "kernelspec": {
   "display_name": "Python 3",
   "language": "python",
   "name": "python3"
  },
  "language_info": {
   "codemirror_mode": {
    "name": "ipython",
    "version": 3
   },
   "file_extension": ".py",
   "mimetype": "text/x-python",
   "name": "python",
   "nbconvert_exporter": "python",
   "pygments_lexer": "ipython3",
   "version": "3.8.8"
  }
 },
 "nbformat": 4,
 "nbformat_minor": 5
}
